{
 "cells": [
  {
   "cell_type": "code",
   "execution_count": 34,
   "metadata": {},
   "outputs": [
    {
     "ename": "IndentationError",
     "evalue": "expected an indented block (<ipython-input-34-906a5ba56040>, line 109)",
     "output_type": "error",
     "traceback": [
      "\u001b[0;36m  File \u001b[0;32m\"<ipython-input-34-906a5ba56040>\"\u001b[0;36m, line \u001b[0;32m109\u001b[0m\n\u001b[0;31m    print(k)\u001b[0m\n\u001b[0m        ^\u001b[0m\n\u001b[0;31mIndentationError\u001b[0m\u001b[0;31m:\u001b[0m expected an indented block\n"
     ]
    }
   ],
   "source": [
    "import random\n",
    "from math import *\n",
    "import numpy as np\n",
    "class robot():\n",
    " \n",
    "    # --------\n",
    "    # init: \n",
    "    #   creates robot and initializes location to 0, 0\n",
    "    #\n",
    " \n",
    "    def __init__(self, world_size = 100.0, measurement_range = 30.0,\n",
    "                 motion_noise = 1.0, measurement_noise = 1.0):\n",
    "        self.measurement_noise = 0.0\n",
    "        self.world_size = world_size\n",
    "        self.measurement_range = measurement_range\n",
    "        self.x = world_size / 2.0\n",
    "        self.y = world_size / 2.0\n",
    "        self.motion_noise = motion_noise\n",
    "        self.measurement_noise = measurement_noise\n",
    "        self.landmarks = []\n",
    "        self.num_landmarks = 0\n",
    " \n",
    " \n",
    "    def rand(self):\n",
    "        return random.random() * 2.0 - 1.0\n",
    " \n",
    "    # --------\n",
    "    #\n",
    "    # make random landmarks located in the world\n",
    "    #\n",
    " \n",
    "    def make_landmarks(self, num_landmarks):\n",
    "        self.landmarks = []\n",
    "        for i in range(num_landmarks):\n",
    "            self.landmarks.append([round(random.random() * self.world_size),\n",
    "                                   round(random.random() * self.world_size)])\n",
    "        self.num_landmarks = num_landmarks\n",
    " \n",
    " \n",
    "    # --------\n",
    "    #\n",
    "    # move: attempts to move robot by dx, dy. If outside world\n",
    "    #       boundary, then the move does nothing and instead returns failure\n",
    "    #\n",
    " \n",
    "    def move(self, dx, dy):\n",
    " \n",
    "        x = self.x + dx + self.rand() * self.motion_noise\n",
    "        y = self.y + dy + self.rand() * self.motion_noise\n",
    " \n",
    "        if x < 0.0 or x > self.world_size or y < 0.0 or y > self.world_size:\n",
    "            return False\n",
    "        else:\n",
    "            self.x = x\n",
    "            self.y = y\n",
    "            return True\n",
    "     \n",
    " \n",
    "    # --------\n",
    "    #\n",
    "    # sense: returns x- and y- distances to landmarks within visibility range\n",
    "    #        because not all landmarks may be in this range, the list of measurements\n",
    "    #        is of variable length. Set measurement_range to -1 if you want all\n",
    "    #        landmarks to be visible at all times\n",
    "    #\n",
    " \n",
    "    def sense(self):\n",
    "        Z = []\n",
    "        for i in range(self.num_landmarks):\n",
    "            dx = self.landmarks[i][0] - self.x + self.rand() * self.measurement_noise\n",
    "            dy = self.landmarks[i][1] - self.y + self.rand() * self.measurement_noise    \n",
    "            if self.measurement_range < 0.0 or abs(dx) + abs(dy) <= self.measurement_range:\n",
    "                Z.append([i, dx, dy])\n",
    "        return Z\n",
    " \n",
    "    # --------\n",
    "    #\n",
    "    # print robot location\n",
    "    #\n",
    " \n",
    "    def __repr__(self):\n",
    "        return('Robot: [x=%.5f y=%.5f]'  % (self.x, self.y))\n",
    " \n",
    " \n",
    "# --------\n",
    "# this routine makes the robot data\n",
    "#\n",
    " \n",
    "def make_data(N, num_landmarks, world_size, measurement_range, motion_noise, \n",
    "              measurement_noise, distance):\n",
    "\n",
    "    complete = False\n",
    "\n",
    "    while not complete:\n",
    "\n",
    "        data = []\n",
    "\n",
    "        # make robot and landmarks\n",
    "        r = robot(world_size, measurement_range, motion_noise, measurement_noise)\n",
    "        r.make_landmarks(num_landmarks)\n",
    "        seen = [False for row in range(num_landmarks)]\n",
    "    \n",
    "        # guess an initial motion\n",
    "        orientation = random.random() * 2.0 * pi\n",
    "        dx = cos(orientation) * distance\n",
    "        dy = sin(orientation) * distance\n",
    "    \n",
    "        for k in range(N-1):\n",
    "            print(k)\n",
    "            # sense\n",
    "            Z = r.sense()\n",
    "\n",
    "            # check off all landmarks that were observed \n",
    "            for i in range(len(Z)):\n",
    "                seen[Z[i][0]] = True\n",
    "    \n",
    "            # move\n",
    "            while not r.move(dx, dy):\n",
    "                # if we'd be leaving the robot world, pick instead a new direction\n",
    "                orientation = random.random() * 2.0 * pi\n",
    "                dx = cos(orientation) * distance\n",
    "                dy = sin(orientation) * distance\n",
    "\n",
    "            # memorize data\n",
    "            data.append([Z, [dx, dy]])\n",
    "\n",
    "        # we are done when all landmarks were observed; otherwise re-run\n",
    "        complete = (sum(seen) == num_landmarks)\n",
    "\n",
    "    print(' ')\n",
    "    print('Landmarks: ', r.landmarks)\n",
    "    print(r)\n",
    "\n",
    "    return data\n",
    "    \n",
    "     \n",
    "####################################################\n",
    " \n",
    "# --------------------------------\n",
    "#\n",
    "# print the result of SLAM, the robot pose(s) and the landmarks\n",
    "#\n",
    " \n",
    "# def print_result(N, num_landmarks, result):\n",
    "#     print\n",
    "#     print 'Estimated Pose(s):'\n",
    "#     for i in range(N):\n",
    "#         print '    ['+ ', '.join('%.3f'%x for x in result.value[2*i]) + ', ' \\\n",
    "#             + ', '.join('%.3f'%x for x in result.value[2*i+1]) +']'\n",
    "#     print\n",
    "#     print 'Estimated Landmarks:'\n",
    "#     for i in range(num_landmarks):\n",
    "#         print '    ['+ ', '.join('%.3f'%x for x in result.value[2*(N+i)]) + ', ' \\\n",
    "#             + ', '.join('%.3f'%x for x in result.value[2*(N+i)+1]) +']'\n",
    " \n",
    "# slam - retains entire path and all landmarks\n",
    "#\n",
    " \n",
    "############## ENTER YOUR CODE BELOW HERE ###################\n",
    " \n",
    "# def slam(data, N, num_landmarks, motion_noise, measurement_noise):\n",
    "     \n",
    "#     #print len(data), N\n",
    "#     #\n",
    "#     #\n",
    "#     # Add your code here!\n",
    "#     #\n",
    "#     #\n",
    "#     dim = 2*(N+num_landmarks)\n",
    "#     #Omega = matrix()\n",
    "#     Omega = np.zeros((dim,dim))\n",
    "#     #Omega.zero(dim, dim)\n",
    "#     #xi = matrix()\n",
    "#     xi = np.zeros((dim,1))\n",
    "#     #xi.zero(dim, 1)\n",
    "     \n",
    "#     # init\n",
    "#     Omega[0][0] = 1\n",
    "#     Omega[1][1] = 1\n",
    "#     xi[0][0] = 50.0\n",
    "#     xi[1][0] = 50.0\n",
    "     \n",
    "#     for i, (Z,[dx,dy]) in enumerate(data):\n",
    "         \n",
    "#         # for x\n",
    "#         Omega.value[2*i][2*i] +=  1.0/motion_noise\n",
    "#         Omega.value[2*i][2*(i+1)] +=  -1.0/motion_noise\n",
    "#         xi.value[2*i][0] += -dx/motion_noise\n",
    "#         # for y\n",
    "#         Omega.value[2*i+1][2*i+1] += 1.0/motion_noise\n",
    "#         Omega.value[2*i+1][2*(i+1)+1] +=  -1.0/motion_noise\n",
    "#         xi.value[2*i+1][0] += -dy/motion_noise\n",
    "#         # for x+1\n",
    "#         Omega.value[2*(i+1)][2*i] +=  -1.0/motion_noise\n",
    "#         Omega.value[2*(i+1)][2*(i+1)] +=  1.0/motion_noise\n",
    "#         xi.value[2*(i+1)][0] += dx/motion_noise\n",
    "#         # for y+1\n",
    "#         Omega.value[2*(i+1)+1][2*i+1] += -1.0/motion_noise\n",
    "#         Omega.value[2*(i+1)+1][2*(i+1)+1] += 1.0/motion_noise\n",
    "#         xi.value[2*(i+1)+1][0] += dy/motion_noise\n",
    "         \n",
    "#         # for landmarks\n",
    "#         for n,zdx,zdy in Z:\n",
    "#             # for zdx\n",
    "#             Omega.value[2*i][2*i] += 1.0/measurement_noise\n",
    "#             Omega.value[2*i][2*N+2*n] += -1.0/measurement_noise\n",
    "#             xi.value[2*i][0] += -zdx/measurement_noise\n",
    "#             Omega.value[2*N+2*n][2*i] += -1.0/measurement_noise\n",
    "#             Omega.value[2*N+2*n][2*N+2*n] += 1.0/measurement_noise\n",
    "#             xi.value[2*N+2*n][0] += zdx/measurement_noise\n",
    "#             # for zdy\n",
    "#             Omega.value[2*i+1][2*i+1] += 1.0/measurement_noise\n",
    "#             Omega.value[2*i+1][2*N+2*n+1] += -1.0/measurement_noise\n",
    "#             xi.value[2*i+1][0] += -zdy/measurement_noise\n",
    "#             Omega.value[2*N+2*n+1][2*i+1] += -1.0/measurement_noise\n",
    "#             Omega.value[2*N+2*n+1][2*N+2*n+1] += 1.0/measurement_noise\n",
    "#             xi.value[2*N+2*n+1][0] += zdy/measurement_noise\n",
    "     \n",
    "#     #print data, N, num_landmarks, motion_noise, measurement_noise\n",
    "     \n",
    "#     mu = Omega.inverse() * xi\n",
    "#     return mu # Make sure you return mu for grading!\n",
    "         \n",
    "############### ENTER YOUR CODE ABOVE HERE ###################\n",
    " \n",
    "# ------------------------------------------------------------------------\n",
    "# ------------------------------------------------------------------------\n",
    "# ------------------------------------------------------------------------\n",
    "#\n",
    "# Main routines\n",
    "#\n",
    "def slam(data, N, num_landmarks,world_size, motion_noise, measurement_noise):\n",
    "\n",
    "    # Set the dimension of the filter\n",
    "    dim = 2*(N+num_landmarks)\n",
    "    #Omega = matrix()\n",
    "    Omega = np.zeros((dim,dim))\n",
    "    #Omega.zero(dim, dim)\n",
    "    #xi = matrix()\n",
    "    xi = np.zeros((dim,1))\n",
    "    #xi.zero(dim, 1)\n",
    "     \n",
    "    # init\n",
    "    Omega[0][0] = 1\n",
    "    Omega[1][1] = 1\n",
    "    xi[0][0] = 50.0\n",
    "    xi[1][0] = 50.0\n",
    "    # process the data\n",
    "\n",
    "    for k in range(len(data)):\n",
    "\n",
    "        # n is the index of the robot pose in the matrix/vector\n",
    "        n = k * 2 \n",
    "    \n",
    "        measurement = data[k][0]\n",
    "        motion      = data[k][1]\n",
    "    \n",
    "        # integrate the measurements\n",
    "        for i in range(len(measurement)):\n",
    "    \n",
    "            # m is the index of the landmark coordinate in the matrix/vector\n",
    "            m = 2 * (N + measurement[i][0])\n",
    "    \n",
    "            # update the information maxtrix/vector based on the measurement\n",
    "            for b in range(2):\n",
    "                Omega[n+b][n+b] +=  1.0 / measurement_noise\n",
    "                Omega[m+b][m+b] +=  1.0 / measurement_noise\n",
    "                Omega[n+b][m+b] += -1.0 / measurement_noise\n",
    "                Omega[m+b][n+b] += -1.0 / measurement_noise\n",
    "                xi[n+b][0]      += -measurement[i][1+b] / measurement_noise\n",
    "                xi[m+b][0]      +=  measurement[i][1+b] / measurement_noise\n",
    "\n",
    "\n",
    "        # update the information maxtrix/vector based on the robot motion\n",
    "        for b in range(4):\n",
    "            Omega[n+b][n+b] +=  1.0 / motion_noise\n",
    "        for b in range(2):\n",
    "            Omega[n+b  ][n+b+2] += -1.0 / motion_noise\n",
    "            Omega[n+b+2][n+b] += -1.0 / motion_noise\n",
    "            xi[n+b][0]        += -motion[b] / motion_noise\n",
    "            xi[n+b+2][0]        +=  motion[b] / motion_noise\n",
    "\n",
    "    # compute best estimate\n",
    "    mu = np.linalg.inv(np.matrix(Omega)) * xi\n",
    "\n",
    "    # return the result\n",
    "    return mu\n",
    "\n",
    " \n"
   ]
  },
  {
   "cell_type": "code",
   "execution_count": 35,
   "metadata": {
    "collapsed": true
   },
   "outputs": [],
   "source": [
    "N = 5\n",
    "num_landmarks = 2\n",
    "world_size = 10\n",
    "# robot parameters\n",
    "measurement_range  = 50.0     # range at which we can sense landmarks\n",
    "motion_noise       = 2.0      # noise in robot motion\n",
    "measurement_noise  = 2.0      # noise in the measurements\n",
    "distance           = 20.0     # distance by which robot (intends to) move each iteratation \n",
    "#mu = slam(data, N, num_landmarks, world_size, motion_noise, measurement_noise)"
   ]
  },
  {
   "cell_type": "code",
   "execution_count": 36,
   "metadata": {},
   "outputs": [
    {
     "ename": "KeyboardInterrupt",
     "evalue": "",
     "output_type": "error",
     "traceback": [
      "\u001b[0;31m---------------------------------------------------------------------------\u001b[0m",
      "\u001b[0;31mKeyboardInterrupt\u001b[0m                         Traceback (most recent call last)",
      "\u001b[0;32m<ipython-input-36-0eac5052cef2>\u001b[0m in \u001b[0;36m<module>\u001b[0;34m()\u001b[0m\n\u001b[0;32m----> 1\u001b[0;31m \u001b[0mmake_data\u001b[0m\u001b[0;34m(\u001b[0m\u001b[0mN\u001b[0m\u001b[0;34m,\u001b[0m \u001b[0mnum_landmarks\u001b[0m\u001b[0;34m,\u001b[0m \u001b[0mworld_size\u001b[0m\u001b[0;34m,\u001b[0m \u001b[0mmeasurement_range\u001b[0m\u001b[0;34m,\u001b[0m \u001b[0mmotion_noise\u001b[0m\u001b[0;34m,\u001b[0m \u001b[0mmeasurement_noise\u001b[0m\u001b[0;34m,\u001b[0m \u001b[0mdistance\u001b[0m\u001b[0;34m)\u001b[0m\u001b[0;34m\u001b[0m\u001b[0m\n\u001b[0m",
      "\u001b[0;32m<ipython-input-31-4c899536c281>\u001b[0m in \u001b[0;36mmake_data\u001b[0;34m(N, num_landmarks, world_size, measurement_range, motion_noise, measurement_noise, distance)\u001b[0m\n\u001b[1;32m    116\u001b[0m \u001b[0;34m\u001b[0m\u001b[0m\n\u001b[1;32m    117\u001b[0m             \u001b[0;31m# move\u001b[0m\u001b[0;34m\u001b[0m\u001b[0;34m\u001b[0m\u001b[0m\n\u001b[0;32m--> 118\u001b[0;31m             \u001b[0;32mwhile\u001b[0m \u001b[0;32mnot\u001b[0m \u001b[0mr\u001b[0m\u001b[0;34m.\u001b[0m\u001b[0mmove\u001b[0m\u001b[0;34m(\u001b[0m\u001b[0mdx\u001b[0m\u001b[0;34m,\u001b[0m \u001b[0mdy\u001b[0m\u001b[0;34m)\u001b[0m\u001b[0;34m:\u001b[0m\u001b[0;34m\u001b[0m\u001b[0m\n\u001b[0m\u001b[1;32m    119\u001b[0m                 \u001b[0;31m# if we'd be leaving the robot world, pick instead a new direction\u001b[0m\u001b[0;34m\u001b[0m\u001b[0;34m\u001b[0m\u001b[0m\n\u001b[1;32m    120\u001b[0m                 \u001b[0morientation\u001b[0m \u001b[0;34m=\u001b[0m \u001b[0mrandom\u001b[0m\u001b[0;34m.\u001b[0m\u001b[0mrandom\u001b[0m\u001b[0;34m(\u001b[0m\u001b[0;34m)\u001b[0m \u001b[0;34m*\u001b[0m \u001b[0;36m2.0\u001b[0m \u001b[0;34m*\u001b[0m \u001b[0mpi\u001b[0m\u001b[0;34m\u001b[0m\u001b[0m\n",
      "\u001b[0;32m<ipython-input-31-4c899536c281>\u001b[0m in \u001b[0;36mmove\u001b[0;34m(self, dx, dy)\u001b[0m\n\u001b[1;32m     46\u001b[0m     \u001b[0;32mdef\u001b[0m \u001b[0mmove\u001b[0m\u001b[0;34m(\u001b[0m\u001b[0mself\u001b[0m\u001b[0;34m,\u001b[0m \u001b[0mdx\u001b[0m\u001b[0;34m,\u001b[0m \u001b[0mdy\u001b[0m\u001b[0;34m)\u001b[0m\u001b[0;34m:\u001b[0m\u001b[0;34m\u001b[0m\u001b[0m\n\u001b[1;32m     47\u001b[0m \u001b[0;34m\u001b[0m\u001b[0m\n\u001b[0;32m---> 48\u001b[0;31m         \u001b[0mx\u001b[0m \u001b[0;34m=\u001b[0m \u001b[0mself\u001b[0m\u001b[0;34m.\u001b[0m\u001b[0mx\u001b[0m \u001b[0;34m+\u001b[0m \u001b[0mdx\u001b[0m \u001b[0;34m+\u001b[0m \u001b[0mself\u001b[0m\u001b[0;34m.\u001b[0m\u001b[0mrand\u001b[0m\u001b[0;34m(\u001b[0m\u001b[0;34m)\u001b[0m \u001b[0;34m*\u001b[0m \u001b[0mself\u001b[0m\u001b[0;34m.\u001b[0m\u001b[0mmotion_noise\u001b[0m\u001b[0;34m\u001b[0m\u001b[0m\n\u001b[0m\u001b[1;32m     49\u001b[0m         \u001b[0my\u001b[0m \u001b[0;34m=\u001b[0m \u001b[0mself\u001b[0m\u001b[0;34m.\u001b[0m\u001b[0my\u001b[0m \u001b[0;34m+\u001b[0m \u001b[0mdy\u001b[0m \u001b[0;34m+\u001b[0m \u001b[0mself\u001b[0m\u001b[0;34m.\u001b[0m\u001b[0mrand\u001b[0m\u001b[0;34m(\u001b[0m\u001b[0;34m)\u001b[0m \u001b[0;34m*\u001b[0m \u001b[0mself\u001b[0m\u001b[0;34m.\u001b[0m\u001b[0mmotion_noise\u001b[0m\u001b[0;34m\u001b[0m\u001b[0m\n\u001b[1;32m     50\u001b[0m \u001b[0;34m\u001b[0m\u001b[0m\n",
      "\u001b[0;32m<ipython-input-31-4c899536c281>\u001b[0m in \u001b[0;36mrand\u001b[0;34m(self)\u001b[0m\n\u001b[1;32m     22\u001b[0m \u001b[0;34m\u001b[0m\u001b[0m\n\u001b[1;32m     23\u001b[0m \u001b[0;34m\u001b[0m\u001b[0m\n\u001b[0;32m---> 24\u001b[0;31m     \u001b[0;32mdef\u001b[0m \u001b[0mrand\u001b[0m\u001b[0;34m(\u001b[0m\u001b[0mself\u001b[0m\u001b[0;34m)\u001b[0m\u001b[0;34m:\u001b[0m\u001b[0;34m\u001b[0m\u001b[0m\n\u001b[0m\u001b[1;32m     25\u001b[0m         \u001b[0;32mreturn\u001b[0m \u001b[0mrandom\u001b[0m\u001b[0;34m.\u001b[0m\u001b[0mrandom\u001b[0m\u001b[0;34m(\u001b[0m\u001b[0;34m)\u001b[0m \u001b[0;34m*\u001b[0m \u001b[0;36m2.0\u001b[0m \u001b[0;34m-\u001b[0m \u001b[0;36m1.0\u001b[0m\u001b[0;34m\u001b[0m\u001b[0m\n\u001b[1;32m     26\u001b[0m \u001b[0;34m\u001b[0m\u001b[0m\n",
      "\u001b[0;31mKeyboardInterrupt\u001b[0m: "
     ]
    }
   ],
   "source": [
    "make_data(N, num_landmarks, world_size, measurement_range, motion_noise, measurement_noise, distance)"
   ]
  },
  {
   "cell_type": "code",
   "execution_count": 16,
   "metadata": {},
   "outputs": [
    {
     "name": "stdout",
     "output_type": "stream",
     "text": [
      " \n",
      "Landmarks:  [[10, 25], [61, 54], [15, 72], [63, 12], [33, 9]]\n",
      "Robot: [x=17.35708 y=92.11899]\n"
     ]
    }
   ],
   "source": [
    "num_landmarks      = 5        # number of landmarks\n",
    "N                  = 20       # time steps\n",
    "world_size         = 100.0    # size of world\n",
    "measurement_range  = 50.0     # range at which we can sense landmarks\n",
    "motion_noise       = 2.0      # noise in robot motion\n",
    "measurement_noise  = 2.0      # noise in the measurements\n",
    "distance           = 20.0     # distance by which robot (intends to) move each iteratation \n",
    " \n",
    "data = make_data(N, num_landmarks, world_size, measurement_range, motion_noise, measurement_noise, distance)"
   ]
  },
  {
   "cell_type": "raw",
   "metadata": {},
   "source": [
    "print_result(N, num_landmarks, result)"
   ]
  },
  {
   "cell_type": "code",
   "execution_count": 11,
   "metadata": {
    "collapsed": true
   },
   "outputs": [],
   "source": [
    "# a helper function that creates a list of poses and of landmarks for ease of printing\n",
    "# this only works for the suggested constraint architecture of interlaced x,y poses\n",
    "def get_poses_landmarks(mu, N):\n",
    "    # create a list of poses\n",
    "    poses = []\n",
    "    for i in range(N):\n",
    "        poses.append((mu[2*i].item(), mu[2*i+1].item()))\n",
    "\n",
    "    # create a list of landmarks\n",
    "    landmarks = []\n",
    "    for i in range(num_landmarks):\n",
    "        landmarks.append((mu[2*(N+i)].item(), mu[2*(N+i)+1].item()))\n",
    "\n",
    "    # return completed lists\n",
    "    return poses, landmarks\n"
   ]
  },
  {
   "cell_type": "code",
   "execution_count": 126,
   "metadata": {},
   "outputs": [
    {
     "data": {
      "text/plain": [
       "matrix([[ 50.]])"
      ]
     },
     "execution_count": 126,
     "metadata": {},
     "output_type": "execute_result"
    }
   ],
   "source": [
    "#result[0]"
   ]
  },
  {
   "cell_type": "code",
   "execution_count": 13,
   "metadata": {},
   "outputs": [
    {
     "ename": "AttributeError",
     "evalue": "'list' object has no attribute 'item'",
     "output_type": "error",
     "traceback": [
      "\u001b[0;31m---------------------------------------------------------------------------\u001b[0m",
      "\u001b[0;31mAttributeError\u001b[0m                            Traceback (most recent call last)",
      "\u001b[0;32m<ipython-input-13-fc173214f3f7>\u001b[0m in \u001b[0;36m<module>\u001b[0;34m()\u001b[0m\n\u001b[0;32m----> 1\u001b[0;31m \u001b[0mposes\u001b[0m\u001b[0;34m,\u001b[0m \u001b[0mlandmarks\u001b[0m \u001b[0;34m=\u001b[0m \u001b[0mget_poses_landmarks\u001b[0m\u001b[0;34m(\u001b[0m\u001b[0mdata\u001b[0m\u001b[0;34m,\u001b[0m \u001b[0mN\u001b[0m\u001b[0;34m)\u001b[0m\u001b[0;34m\u001b[0m\u001b[0m\n\u001b[0m",
      "\u001b[0;32m<ipython-input-11-f568a16eb2ad>\u001b[0m in \u001b[0;36mget_poses_landmarks\u001b[0;34m(mu, N)\u001b[0m\n\u001b[1;32m      5\u001b[0m     \u001b[0mposes\u001b[0m \u001b[0;34m=\u001b[0m \u001b[0;34m[\u001b[0m\u001b[0;34m]\u001b[0m\u001b[0;34m\u001b[0m\u001b[0m\n\u001b[1;32m      6\u001b[0m     \u001b[0;32mfor\u001b[0m \u001b[0mi\u001b[0m \u001b[0;32min\u001b[0m \u001b[0mrange\u001b[0m\u001b[0;34m(\u001b[0m\u001b[0mN\u001b[0m\u001b[0;34m)\u001b[0m\u001b[0;34m:\u001b[0m\u001b[0;34m\u001b[0m\u001b[0m\n\u001b[0;32m----> 7\u001b[0;31m         \u001b[0mposes\u001b[0m\u001b[0;34m.\u001b[0m\u001b[0mappend\u001b[0m\u001b[0;34m(\u001b[0m\u001b[0;34m(\u001b[0m\u001b[0mmu\u001b[0m\u001b[0;34m[\u001b[0m\u001b[0;36m2\u001b[0m\u001b[0;34m*\u001b[0m\u001b[0mi\u001b[0m\u001b[0;34m]\u001b[0m\u001b[0;34m.\u001b[0m\u001b[0mitem\u001b[0m\u001b[0;34m(\u001b[0m\u001b[0;34m)\u001b[0m\u001b[0;34m,\u001b[0m \u001b[0mmu\u001b[0m\u001b[0;34m[\u001b[0m\u001b[0;36m2\u001b[0m\u001b[0;34m*\u001b[0m\u001b[0mi\u001b[0m\u001b[0;34m+\u001b[0m\u001b[0;36m1\u001b[0m\u001b[0;34m]\u001b[0m\u001b[0;34m.\u001b[0m\u001b[0mitem\u001b[0m\u001b[0;34m(\u001b[0m\u001b[0;34m)\u001b[0m\u001b[0;34m)\u001b[0m\u001b[0;34m)\u001b[0m\u001b[0;34m\u001b[0m\u001b[0m\n\u001b[0m\u001b[1;32m      8\u001b[0m \u001b[0;34m\u001b[0m\u001b[0m\n\u001b[1;32m      9\u001b[0m     \u001b[0;31m# create a list of landmarks\u001b[0m\u001b[0;34m\u001b[0m\u001b[0;34m\u001b[0m\u001b[0m\n",
      "\u001b[0;31mAttributeError\u001b[0m: 'list' object has no attribute 'item'"
     ]
    }
   ],
   "source": [
    "poses, landmarks = get_poses_landmarks(data, N)"
   ]
  },
  {
   "cell_type": "code",
   "execution_count": 140,
   "metadata": {},
   "outputs": [
    {
     "data": {
      "text/plain": [
       "[(49.99999999999996, 50.00000000000006),\n",
       " (66.046808693782, 61.69390446410263),\n",
       " (82.80404767370166, 74.16539591837456),\n",
       " (98.0774398283114, 86.85635374494608),\n",
       " (92.18424360848266, 68.53633434912112),\n",
       " (88.10422248791446, 48.71003251265389),\n",
       " (82.75506396382872, 29.91425374728211),\n",
       " (77.80892297281056, 10.232089918895717),\n",
       " (84.27018053636814, 30.267402644914263),\n",
       " (89.15276293614801, 49.36921507249699),\n",
       " (94.46363831558236, 68.64740767905286),\n",
       " (99.76642678704437, 87.53649462863574),\n",
       " (85.70345602902134, 72.61165584559012),\n",
       " (71.8371182800474, 58.169537970750525),\n",
       " (58.39436744952275, 44.04746392873548),\n",
       " (43.425803984433486, 29.930914980241774),\n",
       " (29.154970284801664, 15.07744068207122),\n",
       " (16.178178436818172, 1.129175941064453),\n",
       " (36.3559981576702, 2.8522563361012985),\n",
       " (56.35062218227924, 3.3159481675212916)]"
      ]
     },
     "execution_count": 140,
     "metadata": {},
     "output_type": "execute_result"
    }
   ],
   "source": [
    "poses"
   ]
  },
  {
   "cell_type": "code",
   "execution_count": 138,
   "metadata": {
    "collapsed": true
   },
   "outputs": [],
   "source": [
    "from robot_class import robot\n",
    "from math import *\n",
    "import random\n",
    "import numpy as np\n",
    "\n",
    "import matplotlib.pyplot as plt\n",
    "import seaborn as sns\n",
    "\n",
    "\n",
    "# --------\n",
    "# this helper function displays the world that a robot is in\n",
    "# it assumes the world is a square grid of some given size\n",
    "# and that landmarks is a list of landmark positions(an optional argument)\n",
    "def display_world(world_size, position, landmarks=None):\n",
    "    \n",
    "    # using seaborn, set background grid to gray\n",
    "    sns.set_style(\"dark\")\n",
    "\n",
    "    # Plot grid of values\n",
    "    world_grid = np.zeros((world_size+1, world_size+1))\n",
    "\n",
    "    # Set minor axes in between the labels\n",
    "    ax=plt.gca()\n",
    "    cols = world_size+1\n",
    "    rows = world_size+1\n",
    "\n",
    "    ax.set_xticks([x for x in range(1,cols)],minor=True )\n",
    "    ax.set_yticks([y for y in range(1,rows)],minor=True)\n",
    "    \n",
    "    # Plot grid on minor axes in gray (width = 1)\n",
    "    plt.grid(which='minor',ls='-',lw=1, color='white')\n",
    "    \n",
    "    # Plot grid on major axes in larger width\n",
    "    plt.grid(which='major',ls='-',lw=2, color='white')\n",
    "    \n",
    "    # Create an 'o' character that represents the robot\n",
    "    # ha = horizontal alignment, va = vertical\n",
    "    ax.text(position[0], position[1], 'o', ha='center', va='center', color='r', fontsize=30)\n",
    "    \n",
    "    # Draw landmarks if they exists\n",
    "    if(landmarks is not None):\n",
    "        # loop through all path indices and draw a dot (unless it's at the car's location)\n",
    "        for pos in landmarks:\n",
    "            if(pos != position):\n",
    "                ax.text(pos[0], pos[1], 'x', ha='center', va='center', color='purple', fontsize=20)\n",
    "    \n",
    "    # Display final result\n",
    "    plt.show()\n",
    "\n"
   ]
  },
  {
   "cell_type": "code",
   "execution_count": 151,
   "metadata": {},
   "outputs": [
    {
     "data": {
      "text/plain": [
       "(58.10703444435144, 42.62750723900342)"
      ]
     },
     "execution_count": 151,
     "metadata": {},
     "output_type": "execute_result"
    }
   ],
   "source": [
    "poses[-1]"
   ]
  },
  {
   "cell_type": "code",
   "execution_count": 152,
   "metadata": {},
   "outputs": [
    {
     "name": "stdout",
     "output_type": "stream",
     "text": [
      "Last pose:  (58.10703444435144, 42.62750723900342)\n"
     ]
    },
    {
     "data": {
      "image/png": "[encoded data removed]",
      "text/plain": [
       "<matplotlib.figure.Figure at 0x110708048>"
      ]
     },
     "metadata": {},
     "output_type": "display_data"
    }
   ],
   "source": [
    "# import the helper function\n",
    "#from helpers import display_world\n",
    "\n",
    "# Display the final world!\n",
    "\n",
    "# define figure size\n",
    "plt.rcParams[\"figure.figsize\"] = (20,20)\n",
    "\n",
    "# check if poses has been created\n",
    "if 'poses' in locals():\n",
    "    # print out the last pose\n",
    "    print('Last pose: ', poses[-1])\n",
    "    # display the last position of the robot *and* the landmark positions\n",
    "    display_world(int(world_size), poses[-1], landmarks)"
   ]
  },
  {
   "cell_type": "code",
   "execution_count": 141,
   "metadata": {
    "collapsed": true
   },
   "outputs": [],
   "source": [
    "def print_result(N, num_landmarks, result):\n",
    "    print('Estimated Pose(s):')\n",
    "    for i in range(N):\n",
    "        print('    ['+ ', '.join('%.3f'%x for x in result[2*i]) + ', ' \\\n",
    "            + ', '.join('%.3f'%x for x in result[2*i+1]) +']')\n",
    "    print('Estimated Landmarks:')\n",
    "    for i in range(num_landmarks):\n",
    "        print('    ['+ ', '.join('%.3f'%x for x in result[2*(N+i)]) + ', ' \\\n",
    "            + ', '.join('%.3f'%x for x in result[2*(N+i)+1]) +']')"
   ]
  },
  {
   "cell_type": "code",
   "execution_count": 25,
   "metadata": {},
   "outputs": [
    {
     "name": "stdout",
     "output_type": "stream",
     "text": [
      " \n",
      "Landmarks:  [[86, 73], [43, 92], [88, 25], [89, 12], [91, 44]]\n",
      "Robot: [x=40.87024 y=61.26709]\n"
     ]
    }
   ],
   "source": [
    "data = make_data(N, num_landmarks, world_size, measurement_range, motion_noise, measurement_noise, distance)"
   ]
  },
  {
   "cell_type": "code",
   "execution_count": 21,
   "metadata": {},
   "outputs": [
    {
     "name": "stdout",
     "output_type": "stream",
     "text": [
      "\n",
      "\n",
      "Estimated Poses:\n",
      "[50.000, 50.000]\n",
      "[46.394, 29.911]\n",
      "[44.254, 12.099]\n",
      "[63.105, 18.876]\n",
      "[81.192, 26.283]\n",
      "[68.158, 9.379]\n",
      "[87.518, 16.448]\n",
      "[73.611, 30.385]\n",
      "[59.553, 43.909]\n",
      "[46.436, 58.790]\n",
      "[32.626, 73.670]\n",
      "[19.998, 87.515]\n",
      "[39.647, 80.673]\n",
      "[58.442, 76.351]\n",
      "[77.091, 69.760]\n",
      "[95.305, 63.612]\n",
      "[76.766, 70.913]\n",
      "[56.881, 77.912]\n",
      "[38.050, 85.790]\n",
      "[19.457, 93.159]\n",
      "\n",
      "\n",
      "Estimated Landmarks:\n",
      "[11.116, 26.017]\n",
      "[60.709, 53.671]\n",
      "[15.462, 71.408]\n",
      "[63.056, 11.826]\n",
      "[32.890, 7.881]\n"
     ]
    }
   ],
   "source": [
    "# call your implementation of slam, passing in the necessary parameters\n",
    "slam(data, N, num_landmarks,world_size, motion_noise, measurement_noise)\n",
    "\n",
    "# print out the resulting landmarks and poses\n",
    "if(mu is not None):\n",
    "    # get the lists of poses and landmarks\n",
    "    # and print them out\n",
    "    poses, landmarks = get_poses_landmarks(mu, N)\n",
    "    print_all(poses, landmarks)"
   ]
  },
  {
   "cell_type": "code",
   "execution_count": null,
   "metadata": {
    "collapsed": true
   },
   "outputs": [],
   "source": []
  },
  {
   "cell_type": "code",
   "execution_count": null,
   "metadata": {
    "collapsed": true
   },
   "outputs": [],
   "source": []
  },
  {
   "cell_type": "code",
   "execution_count": 18,
   "metadata": {
    "collapsed": true
   },
   "outputs": [],
   "source": [
    "def print_all(poses, landmarks):\n",
    "    print('\\n')\n",
    "    print('Estimated Poses:')\n",
    "    for i in range(len(poses)):\n",
    "        print('['+', '.join('%.3f'%p for p in poses[i])+']')\n",
    "    print('\\n')\n",
    "    print('Estimated Landmarks:')\n",
    "    for i in range(len(landmarks)):\n",
    "        print('['+', '.join('%.3f'%l for l in landmarks[i])+']')\n"
   ]
  },
  {
   "cell_type": "code",
   "execution_count": 145,
   "metadata": {
    "collapsed": true
   },
   "outputs": [],
   "source": [
    "#print_all(poses, landmarks)"
   ]
  },
  {
   "cell_type": "code",
   "execution_count": 149,
   "metadata": {},
   "outputs": [
    {
     "name": "stdout",
     "output_type": "stream",
     "text": [
      "\n",
      "\n",
      "Estimated Poses:\n",
      "[50.000, 50.000]\n",
      "[37.973, 33.652]\n",
      "[26.185, 18.155]\n",
      "[13.745, 2.116]\n",
      "[28.097, 16.783]\n",
      "[42.384, 30.902]\n",
      "[55.831, 44.497]\n",
      "[70.857, 59.699]\n",
      "[85.697, 75.543]\n",
      "[74.011, 92.434]\n",
      "[53.544, 96.454]\n",
      "[34.525, 100.080]\n",
      "[48.623, 83.953]\n",
      "[60.197, 68.107]\n",
      "[73.778, 52.935]\n",
      "[87.132, 38.538]\n",
      "[80.303, 20.508]\n",
      "[72.798, 2.945]\n",
      "[55.245, 13.255]\n",
      "[37.416, 22.317]\n",
      "\n",
      "\n",
      "Estimated Landmarks:\n",
      "[82.956, 13.539]\n",
      "[70.495, 74.141]\n",
      "[36.740, 61.281]\n",
      "[18.698, 66.060]\n",
      "[20.635, 16.875]\n"
     ]
    }
   ],
   "source": [
    "# Here is the data and estimated outputs for test case 1\n",
    "\n",
    "test_data1 = [[[[1, 19.457599255548065, 23.8387362100849], [2, -13.195807561967236, 11.708840328458608], [3, -30.0954905279171, 15.387879242505843]], [-12.2607279422326, -15.801093326936487]], [[[2, -0.4659930049620491, 28.088559771215664], [4, -17.866382374890936, -16.384904503932]], [-12.2607279422326, -15.801093326936487]], [[[4, -6.202512900833806, -1.823403210274639]], [-12.2607279422326, -15.801093326936487]], [[[4, 7.412136480918645, 15.388585962142429]], [14.008259661173426, 14.274756084260822]], [[[4, -7.526138813444998, -0.4563942429717849]], [14.008259661173426, 14.274756084260822]], [[[2, -6.299793150150058, 29.047830407717623], [4, -21.93551130411791, -13.21956810989039]], [14.008259661173426, 14.274756084260822]], [[[1, 15.796300959032276, 30.65769689694247], [2, -18.64370821983482, 17.380022987031367]], [14.008259661173426, 14.274756084260822]], [[[1, 0.40311325410337906, 14.169429532679855], [2, -35.069349468466235, 2.4945558982439957]], [14.008259661173426, 14.274756084260822]], [[[1, -16.71340983241936, -2.777000269543834]], [-11.006096015782283, 16.699276945166858]], [[[1, -3.611096830835776, -17.954019226763958]], [-19.693482634035977, 3.488085684573048]], [[[1, 18.398273354362416, -22.705102332550947]], [-19.693482634035977, 3.488085684573048]], [[[2, 2.789312482883833, -39.73720193121324]], [12.849049222879723, -15.326510824972983]], [[[1, 21.26897046581808, -10.121029799040915], [2, -11.917698965880655, -23.17711662602097], [3, -31.81167947898398, -16.7985673023331]], [12.849049222879723, -15.326510824972983]], [[[1, 10.48157743234859, 5.692957082575485], [2, -22.31488473554935, -5.389184118551409], [3, -40.81803984305378, -2.4703329790238118]], [12.849049222879723, -15.326510824972983]], [[[0, 10.591050242096598, -39.2051798967113], [1, -3.5675572049297553, 22.849456408289125], [2, -38.39251065320351, 7.288990306029511]], [12.849049222879723, -15.326510824972983]], [[[0, -3.6225556479370766, -25.58006865235512]], [-7.8874682868419965, -18.379005523261092]], [[[0, 1.9784503557879374, -6.5025974151499]], [-7.8874682868419965, -18.379005523261092]], [[[0, 10.050665232782423, 11.026385307998742]], [-17.82919359778298, 9.062000642947142]], [[[0, 26.526838150174818, -0.22563393232425621], [4, -33.70303936886652, 2.880339841013677]], [-17.82919359778298, 9.062000642947142]]]\n",
    "\n",
    "##  Test Case 1\n",
    "##\n",
    "# Estimated Pose(s):\n",
    "#     [50.000, 50.000]\n",
    "#     [37.858, 33.921]\n",
    "#     [25.905, 18.268]\n",
    "#     [13.524, 2.224]\n",
    "#     [27.912, 16.886]\n",
    "#     [42.250, 30.994]\n",
    "#     [55.992, 44.886]\n",
    "#     [70.749, 59.867]\n",
    "#     [85.371, 75.230]\n",
    "#     [73.831, 92.354]\n",
    "#     [53.406, 96.465]\n",
    "#     [34.370, 100.134]\n",
    "#     [48.346, 83.952]\n",
    "#     [60.494, 68.338]\n",
    "#     [73.648, 53.082]\n",
    "#     [86.733, 38.197]\n",
    "#     [79.983, 20.324]\n",
    "#     [72.515, 2.837]\n",
    "#     [54.993, 13.221]\n",
    "#     [37.164, 22.283]\n",
    "\n",
    "\n",
    "# Estimated Landmarks:\n",
    "#     [82.679, 13.435]\n",
    "#     [70.417, 74.203]\n",
    "#     [36.688, 61.431]\n",
    "#     [18.705, 66.136]\n",
    "#     [20.437, 16.983]\n",
    "\n",
    "\n",
    "### Uncomment the following three lines for test case 1 and compare the output to the values above ###\n",
    "\n",
    "mu_1 = slam(test_data1, 20, 5, 100.0, 2.0, 2.0)\n",
    "poses, landmarks = get_poses_landmarks(mu_1, 20)\n",
    "print_all(poses, landmarks)"
   ]
  },
  {
   "cell_type": "code",
   "execution_count": null,
   "metadata": {
    "collapsed": true
   },
   "outputs": [],
   "source": []
  },
  {
   "cell_type": "code",
   "execution_count": null,
   "metadata": {
    "collapsed": true
   },
   "outputs": [],
   "source": []
  },
  {
   "cell_type": "code",
   "execution_count": null,
   "metadata": {
    "collapsed": true
   },
   "outputs": [],
   "source": []
  },
  {
   "cell_type": "code",
   "execution_count": null,
   "metadata": {
    "collapsed": true
   },
   "outputs": [],
   "source": []
  },
  {
   "cell_type": "code",
   "execution_count": 150,
   "metadata": {},
   "outputs": [
    {
     "name": "stdout",
     "output_type": "stream",
     "text": [
      "\n",
      "\n",
      "Estimated Poses:\n",
      "[50.000, 50.000]\n",
      "[69.181, 45.665]\n",
      "[87.743, 39.703]\n",
      "[76.270, 56.311]\n",
      "[64.317, 72.176]\n",
      "[52.257, 88.154]\n",
      "[44.059, 69.401]\n",
      "[37.002, 49.918]\n",
      "[30.924, 30.955]\n",
      "[23.508, 11.419]\n",
      "[34.180, 27.133]\n",
      "[44.155, 43.846]\n",
      "[54.806, 60.920]\n",
      "[65.698, 78.546]\n",
      "[77.468, 95.626]\n",
      "[96.802, 98.821]\n",
      "[75.957, 99.971]\n",
      "[70.200, 81.181]\n",
      "[64.054, 61.723]\n",
      "[58.107, 42.628]\n",
      "\n",
      "\n",
      "Estimated Landmarks:\n",
      "[76.779, 42.887]\n",
      "[85.065, 77.438]\n",
      "[13.548, 95.652]\n",
      "[59.449, 39.595]\n",
      "[69.263, 94.240]\n"
     ]
    }
   ],
   "source": [
    "# Here is the data and estimated outputs for test case 2\n",
    "\n",
    "test_data2 = [[[[0, 26.543274387283322, -6.262538160312672], [3, 9.937396825799755, -9.128540360867689]], [18.92765331253674, -6.460955043986683]], [[[0, 7.706544739722961, -3.758467215445748], [1, 17.03954411948937, 31.705489938553438], [3, -11.61731288777497, -6.64964096716416]], [18.92765331253674, -6.460955043986683]], [[[0, -12.35130507136378, 2.585119104239249], [1, -2.563534536165313, 38.22159657838369], [3, -26.961236804740935, -0.4802312626141525]], [-11.167066095509824, 16.592065417497455]], [[[0, 1.4138633151721272, -13.912454837810632], [1, 8.087721200818589, 20.51845934354381], [3, -17.091723454402302, -16.521500551709707], [4, -7.414211721400232, 38.09191602674439]], [-11.167066095509824, 16.592065417497455]], [[[0, 12.886743222179561, -28.703968411636318], [1, 21.660953298391387, 3.4912891084614914], [3, -6.401401414569506, -32.321583037341625], [4, 5.034079343639034, 23.102207946092893]], [-11.167066095509824, 16.592065417497455]], [[[1, 31.126317672358578, -10.036784369535214], [2, -38.70878528420893, 7.4987265861424595], [4, 17.977218575473767, 6.150889254289742]], [-6.595520680493778, -18.88118393939265]], [[[1, 41.82460922922086, 7.847527392202475], [3, 15.711709540417502, -30.34633659912818]], [-6.595520680493778, -18.88118393939265]], [[[0, 40.18454208294434, -6.710999804403755], [3, 23.019508919299156, -10.12110867290604]], [-6.595520680493778, -18.88118393939265]], [[[3, 27.18579315312821, 8.067219022708391]], [-6.595520680493778, -18.88118393939265]], [[], [11.492663265706092, 16.36822198838621]], [[[3, 24.57154567653098, 13.461499960708197]], [11.492663265706092, 16.36822198838621]], [[[0, 31.61945290413707, 0.4272295085799329], [3, 16.97392299158991, -5.274596836133088]], [11.492663265706092, 16.36822198838621]], [[[0, 22.407381798735177, -18.03500068379259], [1, 29.642444125196995, 17.3794951934614], [3, 4.7969752441371645, -21.07505361639969], [4, 14.726069092569372, 32.75999422300078]], [11.492663265706092, 16.36822198838621]], [[[0, 10.705527984670137, -34.589764174299596], [1, 18.58772336795603, -0.20109708164787765], [3, -4.839806195049413, -39.92208742305105], [4, 4.18824810165454, 14.146847823548889]], [11.492663265706092, 16.36822198838621]], [[[1, 5.878492140223764, -19.955352450942357], [4, -7.059505455306587, -0.9740849280550585]], [19.628527845173146, 3.83678180657467]], [[[1, -11.150789592446378, -22.736641053247872], [4, -28.832815721158255, -3.9462962046291388]], [-19.841703647091965, 2.5113335861604362]], [[[1, 8.64427397916182, -20.286336970889053], [4, -5.036917727942285, -6.311739993868336]], [-5.946642674882207, -19.09548221169787]], [[[0, 7.151866679283043, -39.56103232616369], [1, 16.01535401373368, -3.780995345194027], [4, -3.04801331832137, 13.697362774960865]], [-5.946642674882207, -19.09548221169787]], [[[0, 12.872879480504395, -19.707592098123207], [1, 22.236710716903136, 16.331770792606406], [3, -4.841206109583004, -21.24604435851242], [4, 4.27111163223552, 32.25309748614184]], [-5.946642674882207, -19.09548221169787]]] \n",
    "\n",
    "\n",
    "##  Test Case 2\n",
    "##\n",
    "# Estimated Pose(s):\n",
    "#     [50.000, 50.000]\n",
    "#     [69.035, 45.061]\n",
    "#     [87.655, 38.971]\n",
    "#     [76.084, 55.541]\n",
    "#     [64.283, 71.684]\n",
    "#     [52.396, 87.887]\n",
    "#     [44.674, 68.948]\n",
    "#     [37.532, 49.680]\n",
    "#     [31.392, 30.893]\n",
    "#     [24.796, 12.012]\n",
    "#     [33.641, 26.440]\n",
    "#     [43.858, 43.560]\n",
    "#     [54.735, 60.659]\n",
    "#     [65.884, 77.791]\n",
    "#     [77.413, 94.554]\n",
    "#     [96.740, 98.020]\n",
    "#     [76.149, 99.586]\n",
    "#     [70.211, 80.580]\n",
    "#     [64.130, 61.270]\n",
    "#     [58.183, 42.175]\n",
    "\n",
    "\n",
    "# Estimated Landmarks:\n",
    "#     [76.777, 42.415]\n",
    "#     [85.109, 76.850]\n",
    "#     [13.687, 95.386]\n",
    "#     [59.488, 39.149]\n",
    "#     [69.283, 93.654]\n",
    "\n",
    "\n",
    "### Uncomment the following three lines for test case 2 and compare to the values above ###\n",
    "\n",
    "mu_2 = slam(test_data2, 20, 5, 100.0, 2.0, 2.0)\n",
    "poses, landmarks = get_poses_landmarks(mu_2, 20)\n",
    "print_all(poses, landmarks)\n",
    "\n"
   ]
  }
 ],
 "metadata": {
  "kernelspec": {
   "display_name": "Python 3",
   "language": "python",
   "name": "python3"
  },
  "language_info": {
   "codemirror_mode": {
    "name": "ipython",
    "version": 3
   },
   "file_extension": ".py",
   "mimetype": "text/x-python",
   "name": "python",
   "nbconvert_exporter": "python",
   "pygments_lexer": "ipython3",
   "version": "3.6.1"
  }
 },
 "nbformat": 4,
 "nbformat_minor": 2
}
