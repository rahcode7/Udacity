{
 "cells": [
  {
   "cell_type": "code",
   "execution_count": 21,
   "metadata": {
    "collapsed": true
   },
   "outputs": [],
   "source": [
    "\n",
    "class robot:\n",
    "    \n",
    "    # --------\n",
    "    # init:\n",
    "    #   creates a robot with the specified parameters and initializes\n",
    "    #   the location (self.x, self.y) to the center of the world\n",
    "    #\n",
    "    def __init__(self, world_size = 100.0, measurement_range = 30.0,\n",
    "                 motion_noise = 1.0, measurement_noise = 1.0):\n",
    "        self.measurement_noise = 0.0\n",
    "        self.world_size = world_size\n",
    "        self.measurement_range = measurement_range\n",
    "        self.x = world_size / 2.0\n",
    "        self.y = world_size / 2.0\n",
    "        self.motion_noise = motion_noise\n",
    "        self.measurement_noise = measurement_noise\n",
    "        self.landmarks = []\n",
    "        self.num_landmarks = 0\n",
    "    \n",
    "    \n",
    "    # returns a positive, random float\n",
    "    def rand(self):\n",
    "        return random.random() * 2.0 - 1.0\n",
    "    \n",
    "    \n",
    "    # --------\n",
    "    # move: attempts to move robot by dx, dy. If outside world\n",
    "    #       boundary, then the move does nothing and instead returns failure\n",
    "    #\n",
    "    def move(self, dx, dy):\n",
    "        \n",
    "        x = self.x + dx + self.rand() * self.motion_noise\n",
    "        y = self.y + dy + self.rand() * self.motion_noise\n",
    "        \n",
    "        if x < 0.0 or x > self.world_size or y < 0.0 or y > self.world_size:\n",
    "            return False\n",
    "        else:\n",
    "            self.x = x\n",
    "            self.y = y\n",
    "            return True\n",
    "\n",
    "\n",
    "    # --------\n",
    "    # sense: returns x- and y- distances to landmarks within visibility range\n",
    "    #        because not all landmarks may be in this range, the list of measurements\n",
    "    #        is of variable length. Set measurement_range to -1 if you want all\n",
    "    #        landmarks to be visible at all times\n",
    "    #\n",
    "    \n",
    "    ## TODO: paste your complete the sense function, here\n",
    "    ## make sure the indentation of the code is correct\n",
    "    def sense(self):\n",
    "        ''' This function does not take in any parameters, instead it references internal variables\n",
    "            (such as self.landamrks) to measure the distance between the robot and any landmarks\n",
    "            that the robot can see (that are within its measurement range).\n",
    "            This function returns a list of landmark indices, and the measured distances (dx, dy)\n",
    "            between the robot's position and said landmarks.\n",
    "            This function should account for measurement_noise and measurement_range.\n",
    "            One item in the returned list should be in the form: [landmark_index, dx, dy].\n",
    "            '''\n",
    "            \n",
    "        measurements = []\n",
    "        \n",
    "        ## TODO: iterate through all of the landmarks in a world\n",
    "        \n",
    "        ## TODO: For each landmark\n",
    "        ## 1. compute dx and dy, the distances between the robot and the landmark\n",
    "        ## 2. account for measurement noise by *adding* a noise component to dx and dy\n",
    "        ##    - The noise component should be a random value between [-1.0, 1.0)*measurement_noise\n",
    "        ##    - Feel free to use the function self.rand() to help calculate this noise component\n",
    "        ## 3. If either of the distances, dx or dy, fall outside of the internal var, measurement_range\n",
    "        ##    then we cannot record them; if they do fall in the range, then add them to the measurements list\n",
    "        ##    as list.append([index, dx, dy]), this format is important for data creation done later\n",
    "        for i in range(self.num_landmarks):\n",
    "            dx = self.landmarks[i][0] - self.x + self.rand() * self.measurement_noise\n",
    "            dy = self.landmarks[i][1] - self.y + self.rand() * self.measurement_noise    \n",
    "            if self.measurement_range < 0.0 or abs(dx) + abs(dy) <= self.measurement_range:\n",
    "                measurements.append([i, dx, dy])\n",
    "        ## TODO: return the final, complete list of measurements\n",
    "        return measurements\n",
    "    \n",
    "\n",
    "    # --------\n",
    "    # make_landmarks:\n",
    "    # make random landmarks located in the world\n",
    "    #\n",
    "    def make_landmarks(self, num_landmarks):\n",
    "        self.landmarks = []\n",
    "        for i in range(num_landmarks):\n",
    "            self.landmarks.append([round(random.random() * self.world_size),\n",
    "                                   round(random.random() * self.world_size)])\n",
    "        self.num_landmarks = num_landmarks\n",
    "\n",
    "\n",
    "    # called when print(robot) is called; prints the robot's location\n",
    "    def __repr__(self):\n",
    "        return 'Robot: [x=%.5f y=%.5f]'  % (self.x, self.y)\n",
    "\n",
    "\n",
    "\n",
    "####### END robot class #######\n",
    "    # sense: returns x- and y- distances to landmarks within visibility range\n",
    "    #        because not all landmarks may be in this range, the list of measurements\n",
    "    #        is of variable length. Set measurement_range to -1 if you want all\n",
    "    #        landmarks to be visible at all time\n",
    " \n",
    "    # --------\n",
    "    #\n",
    "    # print robot location\n",
    "    #\n",
    " \n",
    "    def __repr__(self):\n",
    "        return 'Robot: [x=%.5f y=%.5f]'  % (self.x, self.y)\n",
    " "
   ]
  },
  {
   "cell_type": "code",
   "execution_count": 33,
   "metadata": {
    "collapsed": true
   },
   "outputs": [],
   "source": [
    "def initialize_constraints(N, num_landmarks, world_size):\n",
    "    ''' This function takes in a number of time steps N, number of landmarks, and a world_size,\n",
    "        and returns initialized constraint matrices, omega and xi.'''\n",
    "    \n",
    "    ## Recommended: Define and store the size (rows/cols) of the constraint matrix in a variable\n",
    "    # no. of time steps is no. of movements right\n",
    "    \n",
    "    \n",
    "    ## TODO: Define the constraint matrix, Omega, with two initial \"strength\" values\n",
    "    ## for the initial x, y location of our robot\n",
    "   # omega = [0]\n",
    "    #x=2*(num_landmarks + 2*N \n",
    "    x=2*(num_landmarks +N) \n",
    "\n",
    "\n",
    "    omega = np.zeros((x,x))\n",
    "    xi = np.zeros((x,1))\n",
    "    # initial pose\n",
    "    omega[0][0] = 1\n",
    "    omega[1][1] = 1\n",
    "    #xi[0] = \n",
    "    \n",
    "    \n",
    "    ## TODO: Define the constraint *vector*, xi\n",
    "    ## you can assume that the robot starts out in the middle of the world with 100% confidence\n",
    "    xi.value[0][0] = world_size/2\n",
    "    xi.value[1][0] = world_size/2\n",
    "    \n",
    "    return omega, xi\n",
    "    "
   ]
  },
  {
   "cell_type": "code",
   "execution_count": 22,
   "metadata": {},
   "outputs": [
    {
     "name": "stdout",
     "output_type": "stream",
     "text": [
      "[[3, 7.627486707553537, 3.6810359014926215], [4, -15.518836945819611, -7.274762592995948]] [-4.372969396982278, -19.516073853443384]\n",
      "[[3, 13.343016161452402, 22.41512427434082], [4, -7.971333717809757, 14.341731320094716]] [-4.372969396982278, -19.516073853443384]\n",
      "[[0, 38.7847843794637, -10.868130045727394], [4, -6.749024492121521, 32.38957120313658]] [-19.255109818452656, 5.4074713017572416]\n",
      "[[4, 12.305628984735321, 27.237977582073164]] [-19.255109818452656, 5.4074713017572416]\n",
      "[] [18.734215879778272, 7.002082216731216]\n",
      "[[4, 15.688887512853954, 17.50664733555379]] [18.734215879778272, 7.002082216731216]\n",
      "[[3, 17.8290898708855, 16.72389640933345], [4, -2.8947763993434705, 6.524248429651644]] [18.734215879778272, 7.002082216731216]\n",
      "[[3, -1.4046701878692684, 10.501308055006069], [4, -23.598813297171038, 0.23993898046222828]] [18.734215879778272, 7.002082216731216]\n",
      "[[2, 12.795317452125676, -29.05260150932161], [3, -18.761416049674263, 3.0239845001593877], [4, -39.11354467091213, -7.605218441308012]] [18.734215879778272, 7.002082216731216]\n",
      "[[2, -5.090563366508427, -36.03818215731932], [3, -36.97727317662435, -2.2199435194814163]] [1.2870465614205473, 19.958544815410157]\n",
      "[] [1.2870465614205473, 19.958544815410157]\n",
      "[] [-6.560014967747669, -18.893549259546937]\n",
      "[] [-6.560014967747669, -18.893549259546937]\n",
      "[[2, 7.440790118986583, -38.24975208411284], [3, -24.099368714910185, -3.6541369193295106]] [-6.560014967747669, -18.893549259546937]\n",
      "[[0, 9.011873745164792, -37.107466300980214], [2, 14.473319089937286, -19.272187554789895], [3, -14.609087449519029, 14.367999800202087], [4, -37.722928699518306, 7.491238543477943]] [-6.560014967747669, -18.893549259546937]\n",
      "[[0, 14.460673599951866, -18.507726054952908], [2, 21.963660868068196, -0.9923101326257409], [3, -8.987764368983843, 31.601275507532765]] [-6.560014967747669, -18.893549259546937]\n",
      "[[0, 22.1927004837932, -0.8682867967409944], [2, 28.643766385495187, 17.536792600834847]] [12.3003943855479, 15.770234556276634]\n",
      "[[0, 10.650257726629166, -14.323335703657525], [2, 17.314177056307773, 5.743010073870348]] [12.3003943855479, 15.770234556276634]\n",
      "[[0, -6.08269337256208, -28.67600609615549], [2, 1.7957669584298008, -12.296635694237818], [3, -26.435504233812885, 20.705147512250136]] [12.3003943855479, 15.770234556276634]\n",
      " \n",
      "Landmarks:  [[81, 1], [16, 100], [89, 20], [58, 53], [36, 44]]\n",
      "Robot: [x=99.06844 y=45.45217]\n",
      "[[0, -11.0074220046566, 16.141069729306647], [1, -17.710079855442494, 14.685680610246752], [4, 12.654600252768969, -7.6417036280768045]] [-1.4137450375519234, 19.949970550574687]\n",
      "[[0, -12.883269690619262, -2.723065871983696], [1, -14.489068346527542, -7.772785877001775], [4, 15.563847401298393, -25.84880042505103]] [-1.4137450375519234, 19.949970550574687]\n",
      "[[0, -11.521347664615039, -22.243279188996166], [1, -14.113781833566506, -23.332244069550605]] [17.600466728541832, 9.498608894858867]\n",
      "[] [-19.989359242874862, 0.6523166863520393]\n",
      "[[0, -6.3176937963049085, -28.96945492443819], [1, -10.77937487942404, -34.079482221430155]] [-19.989359242874862, 0.6523166863520393]\n",
      "[[0, 12.891687528525752, -31.882442899417164], [1, 8.19650639338193, -33.07896221733039]] [-19.989359242874862, 0.6523166863520393]\n",
      "[] [8.329790332020451, -18.182810372012867]\n",
      "[[0, 27.985238951021188, -11.337032235092305], [1, 24.1365794294967, -14.471458513686821]] [8.329790332020451, -18.182810372012867]\n",
      "[[0, 19.619118262696244, 8.174841013433275], [1, 15.343915714974413, 5.540178480086915], [2, -3.8022480631965956, -36.8787065426329]] [8.329790332020451, -18.182810372012867]\n",
      "[[0, 12.586533844458884, 30.132113112365], [1, 7.829156468197209, 24.41737706731515], [2, -11.865910453987167, -18.513473326468514], [4, 41.92854826584928, 2.906286799151055]] [8.329790332020451, -18.182810372012867]\n",
      "[[1, 3.156943375453683, 43.23389138494784], [2, -19.404160258213565, 2.1948967451681987]] [8.329790332020451, -18.182810372012867]\n",
      "[[2, -29.008712047540882, 19.628471377227196]] [19.993301275263338, 0.5175945484193099]\n",
      "[[4, 0.3372313753673213, 43.15162929392186]] [19.993301275263338, 0.5175945484193099]\n",
      "[[3, 18.316459498171536, 13.49589167940092]] [7.646040645714085, 18.480748427595895]\n",
      "[[3, 10.744511670460161, -8.42352658823726], [4, -22.707040981937286, 21.119543281888788]] [7.646040645714085, 18.480748427595895]\n",
      "[[3, 1.8696947367721197, -24.74574076935006], [4, -32.04132571151341, 2.0678766876280505]] [-2.5546285318525994, 19.836175867950068]\n",
      "[[4, -28.23196549531698, -20.104270587318258]] [-2.5546285318525994, 19.836175867950068]\n",
      "[] [-2.5546285318525994, 19.836175867950068]\n",
      "[] [-12.906372724231744, -15.278270291600645]\n",
      " \n",
      "Landmarks:  [[37, 68], [33, 64], [12, 21], [98, 17], [64, 43]]\n",
      "Robot: [x=75.42879 y=85.20178]\n"
     ]
    }
   ],
   "source": [
    "#from robot_class import robot\n",
    "from math import *\n",
    "import random\n",
    "import numpy as np\n",
    "import matplotlib.pyplot as plt\n",
    "# import seaborn as sns\n",
    "# def make_data(N, num_landmarks, world_size, measurement_range, motion_noise, \n",
    "#               measurement_noise, distance):\n",
    " \n",
    "complete = False\n",
    "\n",
    "while not complete:\n",
    "\n",
    "    data = []\n",
    "\n",
    "    # make robot and landmarks\n",
    "    r = robot(world_size, measurement_range, motion_noise, measurement_noise)\n",
    "    r.make_landmarks(num_landmarks)\n",
    "    seen = [False for row in range(num_landmarks)]\n",
    "\n",
    "    # guess an initial motion\n",
    "    orientation = random.random() * 2.0 * pi\n",
    "    dx = cos(orientation) * distance\n",
    "    dy = sin(orientation) * distance\n",
    "\n",
    "    for k in range(N-1):\n",
    "\n",
    "        # sense\n",
    "        Z = r.sense()\n",
    "\n",
    "        # check off all landmarks that were observed \n",
    "        for i in range(len(Z)):\n",
    "            seen[Z[i][0]] = True\n",
    "\n",
    "        # move\n",
    "        while not r.move(dx, dy):\n",
    "            # if we'd be leaving the robot world, pick instead a new direction\n",
    "            orientation = random.random() * 2.0 * pi\n",
    "            dx = cos(orientation) * distance\n",
    "            dy = sin(orientation) * distance\n",
    "\n",
    "        # memorize data\n",
    "        print(Z,[dx,dy])\n",
    "        \n",
    "        data.append([Z, [dx, dy]])\n",
    "    # we are done when all landmarks were observed; otherwise re-run\n",
    "    complete = (sum(seen) == num_landmarks)\n",
    "\n",
    "    print(' ')\n",
    "    print('Landmarks: ', r.landmarks)\n",
    "    print(r)\n",
    "\n",
    "#return(data)\n",
    "     "
   ]
  },
  {
   "cell_type": "code",
   "execution_count": null,
   "metadata": {
    "collapsed": true
   },
   "outputs": [],
   "source": []
  },
  {
   "cell_type": "code",
   "execution_count": 24,
   "metadata": {},
   "outputs": [
    {
     "data": {
      "text/plain": [
       "[[37, 68], [33, 64], [12, 21], [98, 17], [64, 43]]"
      ]
     },
     "execution_count": 24,
     "metadata": {},
     "output_type": "execute_result"
    }
   ],
   "source": [
    "r.landmarks"
   ]
  },
  {
   "cell_type": "code",
   "execution_count": 25,
   "metadata": {},
   "outputs": [
    {
     "data": {
      "text/plain": [
       "(75.42879125566489, 85.20178186492772)"
      ]
     },
     "execution_count": 25,
     "metadata": {},
     "output_type": "execute_result"
    }
   ],
   "source": [
    "r.x,r.y"
   ]
  },
  {
   "cell_type": "code",
   "execution_count": 12,
   "metadata": {},
   "outputs": [
    {
     "data": {
      "text/plain": [
       "[[16, 93], [73, 80], [95, 62], [70, 73], [78, 6]]"
      ]
     },
     "execution_count": 12,
     "metadata": {},
     "output_type": "execute_result"
    }
   ],
   "source": [
    "r.landmarks"
   ]
  },
  {
   "cell_type": "code",
   "execution_count": 89,
   "metadata": {
    "collapsed": true
   },
   "outputs": [],
   "source": [
    "i = 10 # timestep\n",
    "measurement = data[i][0]\n",
    "motion = data[i][1]"
   ]
  },
  {
   "cell_type": "code",
   "execution_count": 90,
   "metadata": {},
   "outputs": [
    {
     "data": {
      "text/plain": [
       "([], [13.325151547197375, -14.914433822449427])"
      ]
     },
     "execution_count": 90,
     "metadata": {},
     "output_type": "execute_result"
    }
   ],
   "source": [
    "measurement,motion"
   ]
  },
  {
   "cell_type": "code",
   "execution_count": 92,
   "metadata": {},
   "outputs": [
    {
     "data": {
      "text/plain": [
       "[]"
      ]
     },
     "execution_count": 92,
     "metadata": {},
     "output_type": "execute_result"
    }
   ],
   "source": [
    "data[10][0]"
   ]
  },
  {
   "cell_type": "code",
   "execution_count": 3,
   "metadata": {
    "collapsed": true
   },
   "outputs": [],
   "source": [
    "import numpy as np\n",
    "import random\n",
    "# from helpers import make_data\n",
    "\n",
    "# your implementation of slam should work with the following inputs\n",
    "# feel free to change these input values and see how it responds!\n",
    "\n",
    "# world parameters\n",
    "num_landmarks      = 5        # number of landmarks\n",
    "N                  = 20       # time steps\n",
    "world_size         = 100.0    # size of world (square)\n",
    "\n",
    "# robot parameters\n",
    "measurement_range  = 50.0     # range at which we can sense landmarks\n",
    "motion_noise       = 2.0      # noise in robot motion\n",
    "measurement_noise  = 2.0      # noise in the measurements\n",
    "distance           = 20.0     # distance by which robot (intends to) move each iteratation \n",
    "\n",
    "\n",
    "# make_data instantiates a robot, AND generates random landmarks for a given world size and number of landmarks\n",
    "#data = make_data(N, num_landmarks, world_size, measurement_range, motion_noise, measurement_noise, distance)"
   ]
  },
  {
   "cell_type": "code",
   "execution_count": 26,
   "metadata": {
    "collapsed": true
   },
   "outputs": [],
   "source": [
    "## TODO: Complete the code to implement SLAM\n",
    "\n",
    "## slam takes in 6 arguments and returns mu, \n",
    "## mu is the entire path traversed by a robot (all x,y poses) *and* all landmarks locations\n",
    "def slam(data, N, num_landmarks, world_size, motion_noise, measurement_noise):\n",
    "    \n",
    "    ## TODO: Use your initilization to create constraint matrices, omega and xi\n",
    "    Omega,xi = initialize_constraints(N,num_landmarks,world_size)\n",
    "    \n",
    "    ## TODO: Iterate through each time step in the data\n",
    "    \n",
    "    \n",
    "    ## get all the motion and measurement data as you iterate\n",
    "           \n",
    "    for i in range(len(data)):\n",
    "        n = i * 2 #this is because we have x and y coordinates so it goes throught each x coord\n",
    "        measurement = data[i][0]# [i,[dx,dy]] from sense\n",
    "        motion = data[i][1]# [dx,dy] \n",
    "    \n",
    "        ## TODO: update the constraint matrix/vector to account for all *measurements*\n",
    "        \n",
    "        \n",
    "        ## this should be a series of additions that take into account the measurement noise\n",
    "            \n",
    "    ## TODO: update the constraint matrix/vector to account for all *motion* and motion noise\n",
    "        for i, (Z,[dx,dy]) in enumerate(data):\n",
    "         \n",
    "            # for x\n",
    "            Omega.value[2*i][2*i] +=  1.0/motion_noise\n",
    "            Omega.value[2*i][2*(i+1)] +=  -1.0/motion_noise\n",
    "            xi.value[2*i][0] += -dx/motion_noise\n",
    "                # for y\n",
    "            Omega.value[2*i+1][2*i+1] += 1.0/motion_noise\n",
    "            Omega.value[2*i+1][2*(i+1)+1] +=  -1.0/motion_noise\n",
    "            xi.value[2*i+1][0] += -dy/motion_noise\n",
    "            # for x+1\n",
    "            Omega.value[2*(i+1)][2*i] +=  -1.0/motion_noise\n",
    "            Omega.value[2*(i+1)][2*(i+1)] +=  1.0/motion_noise\n",
    "            xi.value[2*(i+1)][0] += dx/motion_noise\n",
    "            # for y+1\n",
    "            Omega.value[2*(i+1)+1][2*i+1] += -1.0/motion_noise\n",
    "            Omega.value[2*(i+1)+1][2*(i+1)+1] += 1.0/motion_noise\n",
    "            xi.value[2*(i+1)+1][0] += dy/motion_noise\n",
    "         \n",
    "        # for landmarks\n",
    "        for n,zdx,zdy in Z:\n",
    "            # for zdx\n",
    "            Omega.value[2*i][2*i] += 1.0/measurement_noise\n",
    "            Omega.value[2*i][2*N+2*n] += -1.0/measurement_noise\n",
    "            xi.value[2*i][0] += -zdx/measurement_noise\n",
    "            Omega.value[2*N+2*n][2*i] += -1.0/measurement_noise\n",
    "            Omega.value[2*N+2*n][2*N+2*n] += 1.0/measurement_noise\n",
    "            xi.value[2*N+2*n][0] += zdx/measurement_noise\n",
    "            # for zdy\n",
    "            Omega.value[2*i+1][2*i+1] += 1.0/measurement_noise\n",
    "            Omega.value[2*i+1][2*N+2*n+1] += -1.0/measurement_noise\n",
    "            xi.value[2*i+1][0] += -zdy/measurement_noise\n",
    "            Omega.value[2*N+2*n+1][2*i+1] += -1.0/measurement_noise\n",
    "            Omega.value[2*N+2*n+1][2*N+2*n+1] += 1.0/measurement_noise\n",
    "            xi.value[2*N+2*n+1][0] += zdy/measurement_noise\n",
    "            \n",
    "    ## TODO: After iterating through all the data\n",
    "    ## Compute the best estimate of poses and landmark positions\n",
    "    ## using the formula, omega_inverse * Xi\n",
    "    mu = Omega.inverse() * xi\n",
    "    \n",
    "    return(mu) # return `mu`\n",
    "\n"
   ]
  },
  {
   "cell_type": "code",
   "execution_count": 32,
   "metadata": {},
   "outputs": [
    {
     "ename": "AttributeError",
     "evalue": "'numpy.ndarray' object has no attribute 'value'",
     "output_type": "error",
     "traceback": [
      "\u001b[0;31m---------------------------------------------------------------------------\u001b[0m",
      "\u001b[0;31mAttributeError\u001b[0m                            Traceback (most recent call last)",
      "\u001b[0;32m<ipython-input-32-d67eec63e6df>\u001b[0m in \u001b[0;36m<module>\u001b[0;34m()\u001b[0m\n\u001b[1;32m      9\u001b[0m \u001b[0;31m#data = make_data(N, num_landmarks, world_size, measurement_range, motion_noise, measurement_noise, distance)\u001b[0m\u001b[0;34m\u001b[0m\u001b[0;34m\u001b[0m\u001b[0m\n\u001b[1;32m     10\u001b[0m \u001b[0minitialize_constraints\u001b[0m\u001b[0;34m(\u001b[0m\u001b[0mN\u001b[0m\u001b[0;34m,\u001b[0m \u001b[0mnum_landmarks\u001b[0m\u001b[0;34m,\u001b[0m \u001b[0mworld_size\u001b[0m\u001b[0;34m)\u001b[0m\u001b[0;34m\u001b[0m\u001b[0m\n\u001b[0;32m---> 11\u001b[0;31m \u001b[0mresult\u001b[0m \u001b[0;34m=\u001b[0m \u001b[0mslam\u001b[0m\u001b[0;34m(\u001b[0m\u001b[0mdata\u001b[0m\u001b[0;34m,\u001b[0m \u001b[0mN\u001b[0m\u001b[0;34m,\u001b[0m \u001b[0mnum_landmarks\u001b[0m\u001b[0;34m,\u001b[0m\u001b[0mworld_size\u001b[0m\u001b[0;34m,\u001b[0m\u001b[0mmotion_noise\u001b[0m\u001b[0;34m,\u001b[0m \u001b[0mmeasurement_noise\u001b[0m\u001b[0;34m)\u001b[0m\u001b[0;34m\u001b[0m\u001b[0m\n\u001b[0m\u001b[1;32m     12\u001b[0m \u001b[0mprint_result\u001b[0m\u001b[0;34m(\u001b[0m\u001b[0mN\u001b[0m\u001b[0;34m,\u001b[0m \u001b[0mnum_landmarks\u001b[0m\u001b[0;34m,\u001b[0m \u001b[0mresult\u001b[0m\u001b[0;34m)\u001b[0m\u001b[0;34m\u001b[0m\u001b[0m\n",
      "\u001b[0;32m<ipython-input-26-a5bf67593c8c>\u001b[0m in \u001b[0;36mslam\u001b[0;34m(data, N, num_landmarks, world_size, motion_noise, measurement_noise)\u001b[0m\n\u001b[1;32m     27\u001b[0m \u001b[0;34m\u001b[0m\u001b[0m\n\u001b[1;32m     28\u001b[0m             \u001b[0;31m# for x\u001b[0m\u001b[0;34m\u001b[0m\u001b[0;34m\u001b[0m\u001b[0m\n\u001b[0;32m---> 29\u001b[0;31m             \u001b[0mOmega\u001b[0m\u001b[0;34m.\u001b[0m\u001b[0mvalue\u001b[0m\u001b[0;34m[\u001b[0m\u001b[0;36m2\u001b[0m\u001b[0;34m*\u001b[0m\u001b[0mi\u001b[0m\u001b[0;34m]\u001b[0m\u001b[0;34m[\u001b[0m\u001b[0;36m2\u001b[0m\u001b[0;34m*\u001b[0m\u001b[0mi\u001b[0m\u001b[0;34m]\u001b[0m \u001b[0;34m+=\u001b[0m  \u001b[0;36m1.0\u001b[0m\u001b[0;34m/\u001b[0m\u001b[0mmotion_noise\u001b[0m\u001b[0;34m\u001b[0m\u001b[0m\n\u001b[0m\u001b[1;32m     30\u001b[0m             \u001b[0mOmega\u001b[0m\u001b[0;34m.\u001b[0m\u001b[0mvalue\u001b[0m\u001b[0;34m[\u001b[0m\u001b[0;36m2\u001b[0m\u001b[0;34m*\u001b[0m\u001b[0mi\u001b[0m\u001b[0;34m]\u001b[0m\u001b[0;34m[\u001b[0m\u001b[0;36m2\u001b[0m\u001b[0;34m*\u001b[0m\u001b[0;34m(\u001b[0m\u001b[0mi\u001b[0m\u001b[0;34m+\u001b[0m\u001b[0;36m1\u001b[0m\u001b[0;34m)\u001b[0m\u001b[0;34m]\u001b[0m \u001b[0;34m+=\u001b[0m  \u001b[0;34m-\u001b[0m\u001b[0;36m1.0\u001b[0m\u001b[0;34m/\u001b[0m\u001b[0mmotion_noise\u001b[0m\u001b[0;34m\u001b[0m\u001b[0m\n\u001b[1;32m     31\u001b[0m             \u001b[0mxi\u001b[0m\u001b[0;34m.\u001b[0m\u001b[0mvalue\u001b[0m\u001b[0;34m[\u001b[0m\u001b[0;36m2\u001b[0m\u001b[0;34m*\u001b[0m\u001b[0mi\u001b[0m\u001b[0;34m]\u001b[0m\u001b[0;34m[\u001b[0m\u001b[0;36m0\u001b[0m\u001b[0;34m]\u001b[0m \u001b[0;34m+=\u001b[0m \u001b[0;34m-\u001b[0m\u001b[0mdx\u001b[0m\u001b[0;34m/\u001b[0m\u001b[0mmotion_noise\u001b[0m\u001b[0;34m\u001b[0m\u001b[0m\n",
      "\u001b[0;31mAttributeError\u001b[0m: 'numpy.ndarray' object has no attribute 'value'"
     ]
    }
   ],
   "source": [
    "num_landmarks      = 5        # number of landmarks\n",
    "N                  = 20       # time steps\n",
    "world_size         = 100.0    # size of world\n",
    "measurement_range  = 50.0     # range at which we can sense landmarks\n",
    "motion_noise       = 2.0      # noise in robot motion\n",
    "measurement_noise  = 2.0      # noise in the measurements\n",
    "distance           = 20.0     # distance by which robot (intends to) move each iteratation \n",
    " \n",
    "#data = make_data(N, num_landmarks, world_size, measurement_range, motion_noise, measurement_noise, distance)\n",
    "initialize_constraints(N, num_landmarks, world_size)\n",
    "result = slam(data, N, num_landmarks,world_size,motion_noise, measurement_noise)                                                                                                                                                                                                                                                                                                                                                                                                                                                                                                                                                                                                                                                                                                                                                                                                                \n",
    "print_result(N, num_landmarks, result)"
   ]
  }
 ],
 "metadata": {
  "kernelspec": {
   "display_name": "Python 3",
   "language": "python",
   "name": "python3"
  },
  "language_info": {
   "codemirror_mode": {
    "name": "ipython",
    "version": 3
   },
   "file_extension": ".py",
   "mimetype": "text/x-python",
   "name": "python",
   "nbconvert_exporter": "python",
   "pygments_lexer": "ipython3",
   "version": "3.6.1"
  }
 },
 "nbformat": 4,
 "nbformat_minor": 2
}
